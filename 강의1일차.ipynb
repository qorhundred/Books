{
  "nbformat": 4,
  "nbformat_minor": 0,
  "metadata": {
    "colab": {
      "provenance": [],
      "gpuType": "T4",
      "mount_file_id": "14X9SPPkX3IJ_4WTip3HP-mS5kg3E3nDi",
      "authorship_tag": "ABX9TyNcsphZMuGrLnGu0tfdXxr1",
      "include_colab_link": true
    },
    "kernelspec": {
      "name": "python3",
      "display_name": "Python 3"
    },
    "language_info": {
      "name": "python"
    },
    "accelerator": "GPU"
  },
  "cells": [
    {
      "cell_type": "markdown",
      "metadata": {
        "id": "view-in-github",
        "colab_type": "text"
      },
      "source": [
        "<a href=\"https://colab.research.google.com/github/qorhundred/Books/blob/master/%EA%B0%95%EC%9D%981%EC%9D%BC%EC%B0%A8.ipynb\" target=\"_parent\"><img src=\"https://colab.research.google.com/assets/colab-badge.svg\" alt=\"Open In Colab\"/></a>"
      ]
    },
    {
      "cell_type": "markdown",
      "source": [
        "구글 코랩 -> 런타임 -> t4어쩌구 선택\n",
        "\n",
        "5줄 이상 함수화\n",
        "3줄 이상 함수화\n",
        "=> 너무 많은 코드가 있으면 읽기 어렵기 때문\n",
        "\n",
        "함수 만들어서 파일 만들어서 모듈로 나누는 것.\n",
        "\n",
        "구글 드라이브랑 연결"
      ],
      "metadata": {
        "id": "iaqRtyy9Xq0N"
      }
    },
    {
      "cell_type": "code",
      "source": [
        "from google.colab import drive\n",
        "drive.mount('/content/drive')"
      ],
      "metadata": {
        "colab": {
          "base_uri": "https://localhost:8080/"
        },
        "id": "MFomvksXXv7J",
        "outputId": "74fbac5c-8bc6-49fc-85a9-42664f7791b5"
      },
      "execution_count": 1,
      "outputs": [
        {
          "output_type": "stream",
          "name": "stdout",
          "text": [
            "Drive already mounted at /content/drive; to attempt to forcibly remount, call drive.mount(\"/content/drive\", force_remount=True).\n"
          ]
        }
      ]
    },
    {
      "cell_type": "code",
      "source": [
        "ls"
      ],
      "metadata": {
        "colab": {
          "base_uri": "https://localhost:8080/"
        },
        "id": "ZgTKNHwlWpFO",
        "outputId": "81f7ff98-aa3c-49fe-a861-286eae0133f3"
      },
      "execution_count": 2,
      "outputs": [
        {
          "output_type": "stream",
          "name": "stdout",
          "text": [
            "\u001b[0m\u001b[01;34mdrive\u001b[0m/  \u001b[01;34msample_data\u001b[0m/\n"
          ]
        }
      ]
    },
    {
      "cell_type": "code",
      "source": [],
      "metadata": {
        "id": "dsxaqXSnYMj0"
      },
      "execution_count": 8,
      "outputs": []
    },
    {
      "cell_type": "code",
      "source": [
        "ls ./drive/MyDrive/"
      ],
      "metadata": {
        "colab": {
          "base_uri": "https://localhost:8080/"
        },
        "id": "-qb5v-CFYBxd",
        "outputId": "46596870-3dec-414f-d3d6-a7d9f3b1e67b"
      },
      "execution_count": 3,
      "outputs": [
        {
          "output_type": "stream",
          "name": "stdout",
          "text": [
            "'00. 데이터베이스 개요_배포용.gslides'\n",
            "'01. 기본 SQL_배포용 (1).gslides'\n",
            "'01. 기본 SQL_배포용.gslides'\n",
            "'02. Table_배포용 (1).gslides'\n",
            "'02. Table_배포용.gslides'\n",
            "'03. Join_배포용.gslides'\n",
            "'04. 이진탐색_배포용.gslides'\n",
            "'08. DP_배포용.gslides'\n",
            "'09. 순열과조합_배포용.gslides'\n",
            "'10. 탐욕알고리즘_배포용.gslides'\n",
            " 110.0.ML_데이터핸들링_데이터전처리.gdoc\n",
            " 1638366647255-0.jpg\n",
            " 1638366647255-10.jpg\n",
            " 1638366647255-11.jpg\n",
            " 1638366647255-12.jpg\n",
            " 1638366647255-13.jpg\n",
            " 1638366647255-14.jpg\n",
            " 1638366647255-1.jpg\n",
            " 1638366647255-2.jpg\n",
            " 1638366647255-3.jpg\n",
            " 1638366647255-4.jpg\n",
            " 1638366647255-5.jpg\n",
            " 1638366647255-6.jpg\n",
            " 1638366647255-7.jpg\n",
            " 1638366647255-8.jpg\n",
            " 1638366647255-9.jpg\n",
            " 1638366927411.jpg\n",
            " 1638367467205-0.jpg\n",
            " 1638367467205-10.jpg\n",
            " 1638367467205-11.jpg\n",
            " 1638367467205-12.jpg\n",
            " 1638367467205-14.jpg\n",
            " 1638367467205-16.jpg\n",
            " 1638367467205-17.jpg\n",
            " 1638367467205-18.jpg\n",
            " 1638367467205-19.jpg\n",
            " 1638367467205-1.jpg\n",
            " 1638367467205-20.jpg\n",
            " 1638367467205-2.jpg\n",
            " 1638367467205-3.jpg\n",
            " 1638367467205-5.jpg\n",
            " 1638367467205-6.jpg\n",
            " 1638367467205-7.jpg\n",
            " 1638367467205-8.jpg\n",
            " 1638367467205-9.jpg\n",
            " 20210326_165702.jpg\n",
            " 20210326_165712.jpg\n",
            " 20210326_171359.mp4\n",
            " 20210326_171420.mp4\n",
            " 20210326_171720.mp4\n",
            " 20210326_171736.jpg\n",
            " 20210326_174026.jpg\n",
            " 20210326_174030.mp4\n",
            "'20210326_174221 (1).jpg'\n",
            " 20210326_174221.jpg\n",
            "'20210326_175031 (1).mp4'\n",
            " 20210326_175031.mp4\n",
            " 20210326_175127.mp4\n",
            " 20210326_175404.mp4\n",
            " 20211201_191620.jpg\n",
            " 20211201_191633.jpg\n",
            " 20211201_191658.jpg\n",
            " 20211201_191803.jpg\n",
            " 20211201_191805.jpg\n",
            " 20211201_191811.jpg\n",
            " 20211201_203146.jpg\n",
            " 20211201_203149.jpg\n",
            "'2024 서비스비즈 인턴십 과제 - 선물하기 서비스 기획.gdoc'\n",
            "'210.0 ML_Regression_1.단순선형회귀.gdoc'\n",
            "'3일차 과제 제출_백선영.pdf'\n",
            "\u001b[0m\u001b[01;34m'4학년 1학기'\u001b[0m/\n",
            " \u001b[01;34m4학년2학기\u001b[0m/\n",
            "'4학년 여름방학 계획!!.gsheet'\n",
            "'ch4_2_3_최고기온 (1).gdoc'\n",
            " ch4_2_3_최고기온.gdoc\n",
            " \u001b[01;34mClassroom\u001b[0m/\n",
            "\u001b[01;34m'Colab Notebooks'\u001b[0m/\n",
            " \u001b[01;34mdata\u001b[0m/\n",
            "'ddp_상권분석_여가 오락.gsheet'\n",
            "'DW스튜디오_내러티브디자인_백선영(000125) (1).pdf'\n",
            "'DW스튜디오_내러티브디자인_백선영(000125).pdf'\n",
            " \u001b[01;34mFAKEBRAND\u001b[0m/\n",
            " Screenshot_20211202-170511_Gallery.jpg\n",
            " Screenshot_20220908-143743_KakaoTalk.jpg\n",
            "\u001b[01;34m'가끔 쓰는 일기'\u001b[0m/\n",
            " 게임기획.gslides\n",
            "'광홍 기말.gdoc'\n",
            "'규제된 선형회귀 ­ 라쏘, 릿지, 엘라 스틱넷 회귀.gdoc'\n",
            "\u001b[01;34m'너는내 라이벌'\u001b[0m/\n",
            "'너를 이기고 승진하겠어.gsheet'\n",
            "\u001b[01;34m'더블유게임즈_백선영 포트폴리오'\u001b[0m\u001b[K/\n",
            "'데이터베이스 연습.gsheet'\n",
            "'데이트디깅 발표문.gdoc'\n",
            "\u001b[01;34m'동국 시나리오 공모전(2024)'\u001b[0m/\n",
            "'드라마_굿토이 컴퍼니.gdoc'\n",
            "'드라마_굿토이 컴퍼니.pdf'\n",
            "\u001b[01;34m'드라마 대본'\u001b[0m/\n",
            "'백선영.과학스토리텔러 지원서.hwp'\n",
            "'백선영. 시놉시스.hwp'\n",
            " 백선영_포트폴리오.gsheet\n",
            "'부동산 계약시 주의 사항.gdoc'\n",
            "'빅데이터 분석 기사.gdoc'\n",
            "'소방 데이터 공모전.gsheet'\n",
            " 스타트업과크라우드펀딩_데이트디깅.pptx\n",
            " \u001b[01;34m스페인\u001b[0m/\n",
            " \u001b[01;34m아시아경제교육센터\u001b[0m/\n",
            "'야구 경기장 날짜별 날씨.gsheet'\n",
            "'영화비평모임 회의록_230807.gsheet'\n",
            " 오진호_크몽_23.11.gsheet\n",
            " \u001b[01;34m오픽\u001b[0m/\n",
            " \u001b[01;34m왓챠지원\u001b[0m/\n",
            " 왓챠지원.hwp\n",
            "'왜 내가 이제 와서 구글시트를 해야 합니다_final의 사본.gform'\n",
            "'왜 내가 이제 와서 구글시트를 해야 합니다_final의 사본.gsheet'\n",
            " 요괴카페-노랑오리.zip\n",
            "'우리의 프로젝트 주제가 무엇인가.gdoc'\n",
            "\u001b[01;34m'웹소설_게임속 바바리맨으로 살아남기'\u001b[0m\u001b[K/\n",
            " \u001b[01;34m웹소설_드래곤부화기\u001b[0m/\n",
            " 웹젠_시나리오.gdoc\n",
            "'이.남.살 1~5화 상세트리트먼트.gsheet'\n",
            " 이력서_20220820.pdf\n",
            "'이번에는 내가 너를 이겨주겠어!.gsheet'\n",
            "'이사짐 리스트.gsheet'\n",
            " \u001b[01;34m자소서들\u001b[0m/\n",
            " \u001b[01;34m잡카데미\u001b[0m/\n",
            "'제목 없는 스프레드시트 (1).gsheet'\n",
            "'제목 없는 스프레드시트 (2).gsheet'\n",
            "'제목 없는 스프레드시트 (3).gsheet'\n",
            "'제목 없는 스프레드시트 (4).gsheet'\n",
            "'제목 없는 스프레드시트 (5).gsheet'\n",
            "'제목 없는 스프레드시트.gsheet'\n",
            "'제목 없는 프레젠테이션.gslides'\n",
            " \u001b[01;34m주은\u001b[0m/\n",
            "'지노 4주년 기념 편지.gdoc'\n",
            "\u001b[01;34m'지노랑 사진'\u001b[0m/\n",
            " 지훈이들_단편소설.hwp\n",
            "\u001b[01;34m'짤툰 문서'\u001b[0m/\n",
            "'찐감자와 공주들 3의 사본.gdoc'\n",
            "'참가신청서 및 제출양식.hwp'\n",
            " 창업기말발표.gdoc\n",
            "'채용 정보 수집.gsheet'\n",
            " 청약.gsheet\n",
            " 컷분석.gsheet\n",
            " \u001b[01;34m토익\u001b[0m/\n",
            "'포트폴리오 (1).gslides'\n",
            " 포트폴리오.gslides\n",
            " 포항단편.hwp\n",
            "\u001b[01;34m'프리존 콘티'\u001b[0m/\n"
          ]
        }
      ]
    },
    {
      "cell_type": "code",
      "source": [
        "import tensorflow as tf\n",
        "import timeit\n",
        "import numpy as np"
      ],
      "metadata": {
        "id": "qMwSDR5XYNm9"
      },
      "execution_count": 4,
      "outputs": []
    },
    {
      "cell_type": "code",
      "source": [
        "tf.test.gpu_device_name()"
      ],
      "metadata": {
        "colab": {
          "base_uri": "https://localhost:8080/",
          "height": 35
        },
        "id": "VcXTpKn9YiSN",
        "outputId": "7036cb76-c3a1-4196-e30b-c043cdc439cb"
      },
      "execution_count": 5,
      "outputs": [
        {
          "output_type": "execute_result",
          "data": {
            "text/plain": [
              "'/device:GPU:0'"
            ],
            "application/vnd.google.colaboratory.intrinsic+json": {
              "type": "string"
            }
          },
          "metadata": {},
          "execution_count": 5
        }
      ]
    },
    {
      "cell_type": "code",
      "source": [
        "!nvidia-smi"
      ],
      "metadata": {
        "colab": {
          "base_uri": "https://localhost:8080/"
        },
        "id": "suWTLr0-ZyZe",
        "outputId": "f614a181-c419-42f7-9165-584f225a0b47"
      },
      "execution_count": 6,
      "outputs": [
        {
          "output_type": "stream",
          "name": "stdout",
          "text": [
            "Mon Apr 29 01:11:55 2024       \n",
            "+---------------------------------------------------------------------------------------+\n",
            "| NVIDIA-SMI 535.104.05             Driver Version: 535.104.05   CUDA Version: 12.2     |\n",
            "|-----------------------------------------+----------------------+----------------------+\n",
            "| GPU  Name                 Persistence-M | Bus-Id        Disp.A | Volatile Uncorr. ECC |\n",
            "| Fan  Temp   Perf          Pwr:Usage/Cap |         Memory-Usage | GPU-Util  Compute M. |\n",
            "|                                         |                      |               MIG M. |\n",
            "|=========================================+======================+======================|\n",
            "|   0  Tesla T4                       Off | 00000000:00:04.0 Off |                    0 |\n",
            "| N/A   56C    P0              26W /  70W |    103MiB / 15360MiB |      0%      Default |\n",
            "|                                         |                      |                  N/A |\n",
            "+-----------------------------------------+----------------------+----------------------+\n",
            "                                                                                         \n",
            "+---------------------------------------------------------------------------------------+\n",
            "| Processes:                                                                            |\n",
            "|  GPU   GI   CI        PID   Type   Process name                            GPU Memory |\n",
            "|        ID   ID                                                             Usage      |\n",
            "|=======================================================================================|\n",
            "+---------------------------------------------------------------------------------------+\n"
          ]
        }
      ]
    },
    {
      "cell_type": "code",
      "source": [
        "!head -n 18 /proc/cpuinfo\n",
        "# 맨 앞줄의 -n(몇줄?) 18줄 프록의 cpuinfo를 보기"
      ],
      "metadata": {
        "colab": {
          "base_uri": "https://localhost:8080/"
        },
        "id": "-pPhQGwKaKiW",
        "outputId": "ac62ce2f-5bb6-4b36-dfc3-c09db19c03dc"
      },
      "execution_count": 8,
      "outputs": [
        {
          "output_type": "stream",
          "name": "stdout",
          "text": [
            "processor\t: 0\n",
            "vendor_id\t: GenuineIntel\n",
            "cpu family\t: 6\n",
            "model\t\t: 85\n",
            "model name\t: Intel(R) Xeon(R) CPU @ 2.00GHz\n",
            "stepping\t: 3\n",
            "microcode\t: 0xffffffff\n",
            "cpu MHz\t\t: 2000.152\n",
            "cache size\t: 39424 KB\n",
            "physical id\t: 0\n",
            "siblings\t: 2\n",
            "core id\t\t: 0\n",
            "cpu cores\t: 1\n",
            "apicid\t\t: 0\n",
            "initial apicid\t: 0\n",
            "fpu\t\t: yes\n",
            "fpu_exception\t: yes\n",
            "cpuid level\t: 13\n"
          ]
        }
      ]
    },
    {
      "cell_type": "code",
      "source": [
        "!head -n 18 /proc/meminfo"
      ],
      "metadata": {
        "colab": {
          "base_uri": "https://localhost:8080/"
        },
        "id": "Krl1Kr5aaogW",
        "outputId": "1cf7aec5-9546-4e32-d08e-e3fdb20a9494"
      },
      "execution_count": 9,
      "outputs": [
        {
          "output_type": "stream",
          "name": "stdout",
          "text": [
            "MemTotal:       13290472 kB\n",
            "MemFree:         7497772 kB\n",
            "MemAvailable:   11758496 kB\n",
            "Buffers:          347488 kB\n",
            "Cached:          4105384 kB\n",
            "SwapCached:            0 kB\n",
            "Active:           759688 kB\n",
            "Inactive:        4605612 kB\n",
            "Active(anon):       1236 kB\n",
            "Inactive(anon):   922940 kB\n",
            "Active(file):     758452 kB\n",
            "Inactive(file):  3682672 kB\n",
            "Unevictable:          16 kB\n",
            "Mlocked:              16 kB\n",
            "SwapTotal:             0 kB\n",
            "SwapFree:              0 kB\n",
            "Dirty:               352 kB\n",
            "Writeback:             0 kB\n"
          ]
        }
      ]
    },
    {
      "cell_type": "code",
      "source": [
        "# 함수 정의\n",
        "def cpu():\n",
        "  with tf.device('/cpu:0'):  # 앞 코드 cpu의 \"processor\t: 0\"\n",
        "    random_image_cpu = tf.random.normal((100,100, 100, 3))\n",
        "    net_cpu = tf.keras.layers.Conv2D(32,7)(random_image_cpu)\n",
        "\n",
        "def gpu():\n",
        "  with tf.device('/GPU:0'): # 앞 코드 gpu의 \"/device:GPU:0\"\n",
        "    random_image_gpu = tf.random.normal((100,100, 100, 3))\n",
        "    net_gpu = tf.keras.layers.Conv2D(32,7)(random_image_gpu)\n"
      ],
      "metadata": {
        "id": "8ZrVrzpQbTAl"
      },
      "execution_count": 12,
      "outputs": []
    },
    {
      "cell_type": "code",
      "source": [
        "cpu_time = timeit.timeit('cpu()', number=10, setup = 'from __main__ import cpu')  #main 은 현재 작업하는 곳"
      ],
      "metadata": {
        "id": "ANxctBlXb_vO"
      },
      "execution_count": 14,
      "outputs": []
    },
    {
      "cell_type": "code",
      "source": [
        "print(cpu_time)"
      ],
      "metadata": {
        "colab": {
          "base_uri": "https://localhost:8080/"
        },
        "id": "VoTDEegBeckG",
        "outputId": "7b011937-8f60-40d2-ecc4-0bcf385dff84"
      },
      "execution_count": 18,
      "outputs": [
        {
          "output_type": "stream",
          "name": "stdout",
          "text": [
            "3.832987902000241\n"
          ]
        }
      ]
    },
    {
      "cell_type": "code",
      "source": [
        "gpu_time = timeit.timeit('gpu()', number=10, setup = 'from __main__ import gpu')  #main 은 현재 작업하는 곳\n",
        "#"
      ],
      "metadata": {
        "id": "ZrfkV2YQecSn"
      },
      "execution_count": 47,
      "outputs": []
    },
    {
      "cell_type": "code",
      "source": [
        "print(gpu_time)"
      ],
      "metadata": {
        "colab": {
          "base_uri": "https://localhost:8080/"
        },
        "id": "6FQ1WR3UhiMv",
        "outputId": "7961a665-ccbc-4501-cb25-226938fb6419"
      },
      "execution_count": 49,
      "outputs": [
        {
          "output_type": "stream",
          "name": "stdout",
          "text": [
            "0.10772782999993069\n"
          ]
        }
      ]
    },
    {
      "cell_type": "code",
      "source": [
        "gpu_time_list = []\n",
        "for i in range(30):\n",
        "  gpu_time = timeit.timeit('gpu()', number=10, setup = 'from __main__ import gpu')\n",
        "  print(gpu_time)\n",
        "  gpu_time_list.append(gpu_time)\n",
        "print('mean: ', np.mean( gpu_time_list))"
      ],
      "metadata": {
        "colab": {
          "base_uri": "https://localhost:8080/"
        },
        "id": "LeLuq4Ich1nG",
        "outputId": "4022ff86-ab0d-4d27-9135-dfa98eb34dd8"
      },
      "execution_count": 52,
      "outputs": [
        {
          "output_type": "stream",
          "name": "stdout",
          "text": [
            "0.10318299700020361\n",
            "0.10095916600039345\n",
            "0.09789055900000676\n",
            "0.08445477500026755\n",
            "0.08139884299998812\n",
            "0.07763128499982486\n",
            "0.07898992599984922\n",
            "0.07543816399993375\n",
            "0.07662936799988529\n",
            "0.0780897869999535\n",
            "0.07619740100017225\n",
            "0.07956838400014021\n",
            "0.07738892399993347\n",
            "0.07564084999967235\n",
            "0.07646444800002428\n",
            "0.07872074700026133\n",
            "0.07688204500027496\n",
            "0.07890148000024055\n",
            "0.07732094800030609\n",
            "0.08081329800006642\n",
            "0.07681634699974893\n",
            "0.07528197600004205\n",
            "0.07505064299994046\n",
            "0.07471626599999581\n",
            "0.08188667500007796\n",
            "0.07767643299985139\n",
            "0.07498867399999654\n",
            "0.07901737600013803\n",
            "0.07596799499970075\n",
            "0.07561014100019747\n",
            "mean:  0.07998586403336957\n"
          ]
        }
      ]
    },
    {
      "cell_type": "code",
      "source": [
        "# 함수 정의\n",
        "def cpu():\n",
        "  random_image_cpu = tf.random.normal((100,100, 100, 3))\n",
        "  net_cpu = tf.keras.layers.Conv2D(32,7)(random_image_cpu)\n",
        "\n",
        "def gpu():\n",
        "  random_image_gpu = tf.random.normal((100,100, 100, 3))\n",
        "  net_gpu = tf.keras.layers.Conv2D(32,7)(random_image_gpu)"
      ],
      "metadata": {
        "id": "sV7oVepHkHJX"
      },
      "execution_count": 56,
      "outputs": []
    },
    {
      "cell_type": "code",
      "source": [
        "gpu_time_list = []\n",
        "for i in range(30):\n",
        "  gpu_time = timeit.timeit('gpu()', number=10, setup = 'from __main__ import gpu')\n",
        "  print(gpu_time)\n",
        "  gpu_time_list.append(gpu_time)\n",
        "print('mean: ', np.mean( gpu_time_list))"
      ],
      "metadata": {
        "colab": {
          "base_uri": "https://localhost:8080/"
        },
        "id": "_iKWKFU3kp2P",
        "outputId": "88956bd1-f452-449d-ee9a-aa9ee0fca10a"
      },
      "execution_count": 57,
      "outputs": [
        {
          "output_type": "stream",
          "name": "stdout",
          "text": [
            "0.10256913400007761\n",
            "0.10050266300004296\n",
            "0.08942339899977014\n",
            "0.0851425000000745\n",
            "0.08123895700009598\n",
            "0.07631962400000702\n",
            "0.08114387199975681\n",
            "0.07606569999961721\n",
            "0.07640523899999607\n",
            "0.07710924799994245\n",
            "0.07666235899978346\n",
            "0.07842428600042695\n",
            "0.07777692399986336\n",
            "0.07903740999972797\n",
            "0.07852914200020678\n",
            "0.08058672700008174\n",
            "0.07857761800005392\n",
            "0.07871228499971039\n",
            "0.07800285799976336\n",
            "0.07711370800006989\n",
            "0.07554117000017868\n",
            "0.07828438200021992\n",
            "0.0784590489997754\n",
            "0.07924147999983688\n",
            "0.08115722100001221\n",
            "0.07818987000018751\n",
            "0.07660641600023155\n",
            "0.07978845099978571\n",
            "0.07907278300035614\n",
            "0.07760948599980111\n",
            "mean:  0.08044313203331513\n"
          ]
        }
      ]
    },
    {
      "cell_type": "code",
      "source": [
        "cpu_time_list = []\n",
        "for i in range(30):\n",
        "  cpu_time = timeit.timeit('cpu()', number=10, setup = 'from __main__ import cpu')\n",
        "  print(cpu_time)\n",
        "  cpu_time_list.append(cpu_time)\n",
        "print('mean: ', np.mean( cpu_time_list))"
      ],
      "metadata": {
        "colab": {
          "base_uri": "https://localhost:8080/"
        },
        "id": "3cJ1EtxFkqsv",
        "outputId": "6931f5b0-a5c6-4dcb-a019-d058e7e3871a"
      },
      "execution_count": 58,
      "outputs": [
        {
          "output_type": "stream",
          "name": "stdout",
          "text": [
            "0.1280201920003492\n",
            "0.10577385399983541\n",
            "0.10095249699998021\n",
            "0.08363011499977802\n",
            "0.08226956499993321\n",
            "0.08125614500022493\n",
            "0.07988635400033672\n",
            "0.07791889399959473\n",
            "0.07908334500007186\n",
            "0.07750709199990524\n",
            "0.07721279199995479\n",
            "0.07703492799964806\n",
            "0.08047863599995253\n",
            "0.09608685500006686\n",
            "0.07533447400010118\n",
            "0.07556570699989607\n",
            "0.07552098699989074\n",
            "0.07889852800008157\n",
            "0.0773544599996967\n",
            "0.07676803000003929\n",
            "0.07713486600005126\n",
            "0.07623693499999717\n",
            "0.07788441999991846\n",
            "0.07974525800000265\n",
            "0.08331635300010021\n",
            "0.08260459900020578\n",
            "0.07887208400006784\n",
            "0.07623285099998611\n",
            "0.07653338000000076\n",
            "0.07583919900025649\n",
            "mean:  0.08236511316666413\n"
          ]
        }
      ]
    },
    {
      "cell_type": "code",
      "source": [
        "def animal_count(num1, num2):\n",
        "  for i in range(num1):\n",
        "    if 2*i + 4*(num1-i) == num2:\n",
        "      return '닭 :' ,i, '소 :', num1-i\n",
        "\n",
        "print(animal_count(20, 56))\n",
        "\n",
        ""
      ],
      "metadata": {
        "colab": {
          "base_uri": "https://localhost:8080/"
        },
        "id": "8zjROBiNlC4k",
        "outputId": "2328bcfa-7b87-432f-b425-82d509f84168"
      },
      "execution_count": 15,
      "outputs": [
        {
          "output_type": "stream",
          "name": "stdout",
          "text": [
            "('닭 :', 12, '소 :', 8)\n"
          ]
        }
      ]
    },
    {
      "cell_type": "code",
      "source": [
        "def brute_force_algorithm(total_head, total_leg):\n",
        "   ''' i: 다리 2개인 동물의 수, j: 다리 4개인 동물의 수 '''\n",
        "    for i in range(0, total_head + 1):\n",
        "        j = total_head - i\n",
        "        condition = 2*i + 4 * j\n",
        "        if condition == total_leg:\n",
        "            return (i, j)\n",
        "    # 반복문을 빠져나온 후에도 i와 j를 반환하기 위해 return문을 수정합니다.\n",
        "    return (None, None)  # 조건을 만족하는 경우가 없으면 (None, None)을 반환합니다.\n",
        "\n",
        "print(brute_force_algorithm(20, 56))\n"
      ],
      "metadata": {
        "colab": {
          "base_uri": "https://localhost:8080/"
        },
        "id": "X75B9qgXfyFP",
        "outputId": "e9dc41b0-56fe-46a1-9f50-2cad7b13f1da"
      },
      "execution_count": 25,
      "outputs": [
        {
          "output_type": "stream",
          "name": "stdout",
          "text": [
            "(12, 8)\n"
          ]
        }
      ]
    },
    {
      "cell_type": "code",
      "source": [
        "def banyard():\n",
        "    total_head = int(input('Enter number of heads : '))\n",
        "    total_leg = int(input('Enter number of legs : '))\n",
        "    (chickens, pigs) = brute_force_algorithm(total_head, total_leg)\n",
        "    if chickens >= 0:  # chickens가 0 이상인지 확인합니다.\n",
        "        print('Number of chickens : ', chickens)\n",
        "        print('Number of pigs : ', pigs)\n",
        "    else:\n",
        "        print('There is no solution')\n",
        "\n",
        "banyard()\n"
      ],
      "metadata": {
        "colab": {
          "base_uri": "https://localhost:8080/"
        },
        "id": "enruPcztghon",
        "outputId": "1101f98a-e09b-4992-8f93-3f9e83465119"
      },
      "execution_count": 29,
      "outputs": [
        {
          "output_type": "stream",
          "name": "stdout",
          "text": [
            "Enter number of heads : 20\n",
            "Enter number of legs : 56\n",
            "Number of chickens :  12\n",
            "Number of pigs :  8\n"
          ]
        }
      ]
    },
    {
      "cell_type": "markdown",
      "source": [
        "\n",
        "1. Colab에서 프로그램 작성\n",
        "  - 실행 가능 여부\n",
        "  - 함수 (5,3)\n",
        "2. local 에 파일 옮기기\n",
        "  - client.py\n",
        "  - module.py\n",
        "  - 유지보수 가능\n",
        "3. 아나콘다 파워쉘 프롬프트에서 실행\n",
        "  - python client.py\n",
        "  - client.py module.py 같은 폴더에 있어야 한다.\n",
        "  - from doc.module as m\n",
        "  - doc 폴더 밑에 __init__.py파일 만들어서 넣어주기\n",
        "  - __init__.py 파일은 내용 없어도 상관없음(해당 폴더를 파이썬 라이브러리 폴더로 등록해주는 기능)\n"
      ],
      "metadata": {
        "id": "KCdck-pgX5eN"
      }
    },
    {
      "cell_type": "code",
      "source": [
        "ls"
      ],
      "metadata": {
        "colab": {
          "base_uri": "https://localhost:8080/"
        },
        "id": "9W8SoTkpsqtw",
        "outputId": "546623b1-9f2b-43fa-9d65-d4628f3e67eb"
      },
      "execution_count": 30,
      "outputs": [
        {
          "output_type": "stream",
          "name": "stdout",
          "text": [
            "client.py  \u001b[0m\u001b[01;34mdrive\u001b[0m/  module.py  \u001b[01;34msample_data\u001b[0m/\n"
          ]
        }
      ]
    },
    {
      "cell_type": "code",
      "source": [
        "%run client.py"
      ],
      "metadata": {
        "colab": {
          "base_uri": "https://localhost:8080/"
        },
        "id": "E1P-n00Ywb6B",
        "outputId": "1bd63b90-a09d-4d3b-c56c-4acf17ef4ce1"
      },
      "execution_count": 34,
      "outputs": [
        {
          "output_type": "stream",
          "name": "stdout",
          "text": [
            "Enter number of heads : 20\n",
            "Enter number of legs : 56\n",
            "Number of chickens :  12\n",
            "Number of pigs :  8\n"
          ]
        }
      ]
    },
    {
      "cell_type": "markdown",
      "source": [
        "# 가상 환경 만들기\n",
        "1. conda env list 기존 가상환경 목록 출력\n",
        "2. conda create -n strweb python=3.10\n",
        "    # 위의 코드로 안되면, 아래 세줄로 실행\n",
        "        conda create -n strweb python=3.10 ipython\n",
        "        pandas numpy matplotlib scikit-learn\n",
        "        tensorflow keras\n",
        "3. conda activate strweb\n",
        "4. conda deactivate"
      ],
      "metadata": {
        "id": "v140iKJ70cwg"
      }
    },
    {
      "cell_type": "code",
      "source": [],
      "metadata": {
        "id": "0rbpv_X1wjOA"
      },
      "execution_count": null,
      "outputs": []
    }
  ]
}